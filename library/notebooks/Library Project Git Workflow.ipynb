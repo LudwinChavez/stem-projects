{
 "cells": [
  {
   "cell_type": "markdown",
   "metadata": {},
   "source": [
    "# Library Project Git Workflow"
   ]
  },
  {
   "cell_type": "markdown",
   "metadata": {},
   "source": [
    "Now that you have a decent idea of how to break this project up into manageable pieces, you may be wondering how to work on this from home with the help of your teammates. Git to the rescue!\n",
    "\n",
    "If you're reading this, I'm guessing you've already cloned this repo. If by some chance you haven't, and you have git installed, you can run the command \n",
    "\n",
    "`git clone https://github.com/denricoNBHS/stem-projects`\n",
    "\n",
    "to get our directory of projects onto your local machine.\n",
    "\n",
    "(__Note__: From here on out, __ignore the exclamation point__ at the beginning of my shell commands - I'm only using them to get my terminal output into the notebook)\n",
    "\n",
    "At any point throughout the workflow, if you'd like to see the current state of your project's files, use the command:"
   ]
  },
  {
   "cell_type": "code",
   "execution_count": 6,
   "metadata": {
    "collapsed": false
   },
   "outputs": [
    {
     "name": "stdout",
     "output_type": "stream",
     "text": [
      "On branch master\r\n",
      "Your branch is up-to-date with 'origin/master'.\r\n",
      "Untracked files:\r\n",
      "  (use \"git add <file>...\" to include in what will be committed)\r\n",
      "\r\n",
      "\t\u001b[31mLibrary Project Git Workflow.ipynb\u001b[m\r\n",
      "\r\n",
      "nothing added to commit but untracked files present (use \"git add\" to track)\r\n"
     ]
    }
   ],
   "source": [
    "!git status"
   ]
  },
  {
   "cell_type": "markdown",
   "metadata": {},
   "source": [
    "Here you can see git telling us a few things. First, we're working on the `master` branch of our repository. We're also told that we're up to date with the remote version of our file, `origin/master`. Finally, we see that the file I'm working on right now has been changed (because I'm typing this...) but isn't being tracked. Let's change that."
   ]
  },
  {
   "cell_type": "code",
   "execution_count": 7,
   "metadata": {
    "collapsed": true
   },
   "outputs": [],
   "source": [
    "!git add Library\\ Project\\ Git\\ Workflow.ipynb"
   ]
  },
  {
   "cell_type": "code",
   "execution_count": 8,
   "metadata": {
    "collapsed": false
   },
   "outputs": [
    {
     "name": "stdout",
     "output_type": "stream",
     "text": [
      "On branch master\r\n",
      "Your branch is up-to-date with 'origin/master'.\r\n",
      "Changes to be committed:\r\n",
      "  (use \"git reset HEAD <file>...\" to unstage)\r\n",
      "\r\n",
      "\t\u001b[32mnew file:   Library Project Git Workflow.ipynb\u001b[m\r\n",
      "\r\n"
     ]
    }
   ],
   "source": [
    "!git status"
   ]
  },
  {
   "cell_type": "markdown",
   "metadata": {},
   "source": [
    "The command `git add` tells git to add this file to the list of files being tracked for version control. See how when we ran `git status` the text color changed from green to red? The file is now tracked, but the changes still haven't been locked in. Let's remedy that using `git commit`."
   ]
  },
  {
   "cell_type": "code",
   "execution_count": 9,
   "metadata": {
    "collapsed": false
   },
   "outputs": [
    {
     "name": "stdout",
     "output_type": "stream",
     "text": [
      "[master d2ec91e] Commit example for workflow\r\n",
      " 1 file changed, 82 insertions(+)\r\n",
      " create mode 100644 library/Library Project Git Workflow.ipynb\r\n"
     ]
    }
   ],
   "source": [
    "!git commit -m 'Commit example for workflow'"
   ]
  },
  {
   "cell_type": "markdown",
   "metadata": {},
   "source": [
    "What this does is create a checkpoint for us. Later on, we might make a mistake that we'd like to undo. We can roll the state of our project back to this checkpoint whenever we like. \n",
    "\n",
    "Now that we've shown you some of the basics, let's explore a test case. \n",
    "\n",
    "Let's say that Mr. E is working on a project with his team, and he's responsible for writing a Python function that opens an instructional video.\n",
    "\n",
    "He doesn't want to mess with everyone's work, so first he creates his own _branch_ and then checks it out."
   ]
  },
  {
   "cell_type": "code",
   "execution_count": 10,
   "metadata": {
    "collapsed": true
   },
   "outputs": [],
   "source": [
    "#Creates a branch called khanacademy\n",
    "!git branch khanacademy"
   ]
  },
  {
   "cell_type": "code",
   "execution_count": 11,
   "metadata": {
    "collapsed": false
   },
   "outputs": [
    {
     "name": "stdout",
     "output_type": "stream",
     "text": [
      "M\tlibrary/Library Project Git Workflow.ipynb\r\n",
      "Switched to branch 'khanacademy'\r\n"
     ]
    }
   ],
   "source": [
    "#Checks out (switches to) the khanacademy branch\n",
    "!git checkout khanacademy"
   ]
  },
  {
   "cell_type": "markdown",
   "metadata": {},
   "source": [
    "He works on his file ('khan.py') and makes sure it's tracked by git."
   ]
  },
  {
   "cell_type": "code",
   "execution_count": 16,
   "metadata": {
    "collapsed": false
   },
   "outputs": [
    {
     "name": "stdout",
     "output_type": "stream",
     "text": [
      "On branch khanacademy\r\n",
      "Changes to be committed:\r\n",
      "  (use \"git reset HEAD <file>...\" to unstage)\r\n",
      "\r\n",
      "\t\u001b[32mnew file:   data/khan.py\u001b[m\r\n",
      "\r\n",
      "Changes not staged for commit:\r\n",
      "  (use \"git add <file>...\" to update what will be committed)\r\n",
      "  (use \"git checkout -- <file>...\" to discard changes in working directory)\r\n",
      "\r\n",
      "\t\u001b[31mmodified:   Library Project Git Workflow.ipynb\u001b[m\r\n",
      "\r\n"
     ]
    }
   ],
   "source": [
    "!git add data/khan.py\n",
    "!git status"
   ]
  },
  {
   "cell_type": "markdown",
   "metadata": {},
   "source": [
    "He tests his program."
   ]
  },
  {
   "cell_type": "code",
   "execution_count": 1,
   "metadata": {
    "collapsed": true
   },
   "outputs": [],
   "source": [
    "!python data/khan.py"
   ]
  },
  {
   "cell_type": "markdown",
   "metadata": {},
   "source": [
    "Satisfied, he commits his changes for posterity."
   ]
  },
  {
   "cell_type": "code",
   "execution_count": 18,
   "metadata": {
    "collapsed": false
   },
   "outputs": [
    {
     "name": "stdout",
     "output_type": "stream",
     "text": [
      "[khanacademy 9072d36] Got em, coach.\r\n",
      " 1 file changed, 4 insertions(+)\r\n",
      " create mode 100644 library/data/khan.py\r\n"
     ]
    }
   ],
   "source": [
    "!git commit -m 'Got em, coach.'"
   ]
  },
  {
   "cell_type": "markdown",
   "metadata": {},
   "source": [
    "At this point, he'll want to incorporate his changes into the main branch.  He can accomplish this using `git merge`. First, he checks out the master branch. Then, he merges the `khanacademy` branch. He hopes nothing blows up."
   ]
  },
  {
   "cell_type": "code",
   "execution_count": 20,
   "metadata": {
    "collapsed": false
   },
   "outputs": [
    {
     "name": "stdout",
     "output_type": "stream",
     "text": [
      "M\tlibrary/Library Project Git Workflow.ipynb\n",
      "Switched to branch 'master'\n",
      "Your branch is ahead of 'origin/master' by 1 commit.\n",
      "  (use \"git push\" to publish your local commits)\n",
      "Updating d2ec91e..9072d36\n",
      "Fast-forward\n",
      " library/data/khan.py | 4 \u001b[32m++++\u001b[m\n",
      " 1 file changed, 4 insertions(+)\n",
      " create mode 100644 library/data/khan.py\n"
     ]
    }
   ],
   "source": [
    "!git checkout master\n",
    "!git merge khanacademy"
   ]
  },
  {
   "cell_type": "markdown",
   "metadata": {},
   "source": [
    "There are no conflicts - all is right with the world. Confident everything looks good locally, it's time to get those changes up on the cloud! First, Mr. E tells git where to send the changes."
   ]
  },
  {
   "cell_type": "code",
   "execution_count": 8,
   "metadata": {
    "collapsed": false
   },
   "outputs": [],
   "source": [
    "# This won't work for you since you can't write to my repo.\n",
    "# However if you fork my repo on github.com, you'll be able to do this\n",
    "# by substituting denricoNBHS with your github username\n",
    "!git remote add origin https://github.com/denricoNBHS/stem-projects"
   ]
  },
  {
   "cell_type": "markdown",
   "metadata": {},
   "source": [
    "This tells git that the name `origin` points to the (remote) address of the repository. Next, he needs to `push` the changes."
   ]
  },
  {
   "cell_type": "code",
   "execution_count": 9,
   "metadata": {
    "collapsed": false
   },
   "outputs": [
    {
     "name": "stdout",
     "output_type": "stream",
     "text": [
      "Everything up-to-date\r\n"
     ]
    }
   ],
   "source": [
    "!git push origin master"
   ]
  },
  {
   "cell_type": "markdown",
   "metadata": {},
   "source": [
    "And now Mr. E kicks back for some well-deserved snacks."
   ]
  }
 ],
 "metadata": {
  "kernelspec": {
   "display_name": "Python 3",
   "language": "python",
   "name": "python3"
  },
  "language_info": {
   "codemirror_mode": {
    "name": "ipython",
    "version": 3
   },
   "file_extension": ".py",
   "mimetype": "text/x-python",
   "name": "python",
   "nbconvert_exporter": "python",
   "pygments_lexer": "ipython3",
   "version": "3.5.2"
  }
 },
 "nbformat": 4,
 "nbformat_minor": 1
}
