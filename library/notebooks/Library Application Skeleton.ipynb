{
 "cells": [
  {
   "cell_type": "markdown",
   "metadata": {},
   "source": [
    "# Library Application Skeleton"
   ]
  },
  {
   "cell_type": "markdown",
   "metadata": {},
   "source": [
    "In most cases, it can be helpful to sketch out the structure of your program before assigning tasks to your team and beginning to code. Below you'll find a walkthrough of this process.\n",
    "\n",
    "After looking at the problem description, we know we need some kind of module that allows us to open a file, read information from it, potentially edit it, and finally, save it. Breaking these tasks down in writing and looking for the verbs will often give you good hints toward how to break your code into functions. In this case, let's start by writing a function that opens our data file."
   ]
  },
  {
   "cell_type": "code",
   "execution_count": 1,
   "metadata": {
    "collapsed": true
   },
   "outputs": [],
   "source": [
    "# Opens the library file and returns two dictionary objects\n",
    "def open_library(filename):\n",
    "    pass"
   ]
  },
  {
   "cell_type": "markdown",
   "metadata": {},
   "source": [
    "So we've given our function a descriptive name, and chosen a parameter that makes sense. Now what kind of behavior would we like? If the library file doesn't exist, we should make sure we don't get an error trying to return undefined variables. To do this, we start by setting students and books to be empty dictionaries just in case.\n",
    "\n",
    "Since in my project I used JSON for the test data, I'll import the `json` module."
   ]
  },
  {
   "cell_type": "code",
   "execution_count": 4,
   "metadata": {
    "collapsed": true
   },
   "outputs": [],
   "source": [
    "import json\n",
    "\n",
    "def open_library(filename):\n",
    "    \n",
    "    # Create empty dictionaries just in case the library file is empty\n",
    "    students = {}\n",
    "    books = {}\n",
    "    \n",
    "    # Open the library file encoded in JSON and load it into the data object\n",
    "    # We use the with keyword so we don't have to explicitly close the file\n",
    "    # later.\n",
    "    #\n",
    "    # Alternatively you could use:\n",
    "    #\n",
    "    #  f = open(filename)\n",
    "    #  data = json.load(f)\n",
    "    #  f.close()\n",
    "    # \n",
    "    # and accomplish the same thing.\n",
    "    \n",
    "    with open(filename) as f:\n",
    "        data = json.load(f)\n",
    "    \n",
    "    # If there are students or books in the library, \n",
    "    # overwrite the empty dictionaries we created\n",
    "    if data['students'] != {}:\n",
    "        students = data['students']\n",
    "    \n",
    "    if data['books'] != {}:\n",
    "        books = data['books']\n",
    "    \n",
    "    # Return the data we loaded from the file\n",
    "    return students, books\n",
    "\n",
    "    # NOTE: The function will return a tuple (students, books)\n",
    "    # If you want either individually, you can use indexing as shown\n",
    "    # below in the test section"
   ]
  },
  {
   "cell_type": "markdown",
   "metadata": {},
   "source": [
    "Now we test the function we wrote:"
   ]
  },
  {
   "cell_type": "code",
   "execution_count": 24,
   "metadata": {
    "collapsed": false
   },
   "outputs": [
    {
     "name": "stdout",
     "output_type": "stream",
     "text": [
      "{'1001': {'first_name': 'Paul', 'last_name': 'McCartney'}, '1003': {'first_name': 'Ringo', 'last_name': 'Starr'}, '1000': {'first_name': 'John', 'last_name': 'Lennon'}, '1002': {'first_name': 'George', 'last_name': 'Harrison'}} \n",
      "\n",
      " {'9780553380163': {'title': 'A Brief History of Time', 'author': 'Stephen Hawking'}, '9780394800011': {'title': 'The Cat in the Hat', 'author': 'Dr. Seuss'}, '9780465025275': {'title': 'Six Easy Pieces: Essentials of Physics Explained by Its Most Brilliant Teacher', 'author': 'Ralph Leighton'}, '9781420946338': {'title': 'Relativity: The Special and General Theory', 'author': 'Albert Einstein'}}\n"
     ]
    }
   ],
   "source": [
    "library = open_library('data/test.json')\n",
    "students = library[0]\n",
    "books = library[1]\n",
    "\n",
    "# \\n is a newline character. It gives us whitespace to make reading easier\n",
    "print(students, '\\n\\n', books)"
   ]
  },
  {
   "cell_type": "markdown",
   "metadata": {},
   "source": [
    "Looks good(in a manner of speaking). Now we have a function that loads (or creates) a library file. How can we apply these ideas to create the other functions we've identified?"
   ]
  },
  {
   "cell_type": "code",
   "execution_count": 1,
   "metadata": {
    "collapsed": true
   },
   "outputs": [],
   "source": [
    "def add_book(filename, isbn, title, author):\n",
    "    #Here's a start\n",
    "    data = open_library(filename)\n",
    "    books = data[1]\n",
    "    \n",
    "    #Now how can we add books to the data?\n",
    "    #In the space below, write code that adds the key isbn\n",
    "    #and the value {'title':title, 'author':author}\n",
    "    #to the books object.\n",
    "    \n",
    "    \n",
    "    #Finally, write code that writes the new data to the library\n",
    "    #Do we need to return anything? \n",
    "    pass"
   ]
  },
  {
   "cell_type": "code",
   "execution_count": 2,
   "metadata": {
    "collapsed": true
   },
   "outputs": [],
   "source": [
    "def remove_book(filename, isbn):\n",
    "    #See how nicely this works?\n",
    "    data = open_library(filename)\n",
    "    books = data[1]\n",
    "    \n",
    "    #How can we *remove* an item from a dictionary?\n",
    "    #Write code to delete the book keyed by isbn in the space below\n",
    "    \n",
    "    \n",
    "    #Now write code that saves the new version of the data to your library\n",
    "    \n",
    "    pass"
   ]
  },
  {
   "cell_type": "code",
   "execution_count": 3,
   "metadata": {
    "collapsed": true
   },
   "outputs": [],
   "source": [
    "def check_out(filename, isbn, s_id):\n",
    "    data = open_library(filename)\n",
    "    books = data[1]\n",
    "    \n",
    "    #Find a way to mark a book as checked out. Be sure to associate\n",
    "    #the book with the student who borrowed it!\n",
    "    \n",
    "    \n",
    "    #And again save the data here\n",
    "    \n",
    "    pass"
   ]
  },
  {
   "cell_type": "code",
   "execution_count": 4,
   "metadata": {
    "collapsed": true
   },
   "outputs": [],
   "source": [
    "def return_book(filename, isbn):\n",
    "    data = open_library(filename)\n",
    "    books = data[1]\n",
    "    \n",
    "    #Now ensure that the book is no longer checked out and save the changes\n",
    "    #to the library.\n",
    "    \n",
    "    pass"
   ]
  },
  {
   "cell_type": "code",
   "execution_count": 5,
   "metadata": {
    "collapsed": true
   },
   "outputs": [],
   "source": [
    "def status(filename):\n",
    "    data = open_library(filename)\n",
    "    books = data[1]\n",
    "    \n",
    "    #Print out two lists - one of all books currently checked out,\n",
    "    #and one of all available books.\n",
    "    \n",
    "    pass"
   ]
  },
  {
   "cell_type": "markdown",
   "metadata": {},
   "source": [
    "Once you have these basic functions written out, we can start to cobble them together into a working program!"
   ]
  }
 ],
 "metadata": {
  "anaconda-cloud": {},
  "kernelspec": {
   "display_name": "Python [default]",
   "language": "python",
   "name": "python3"
  },
  "language_info": {
   "codemirror_mode": {
    "name": "ipython",
    "version": 3
   },
   "file_extension": ".py",
   "mimetype": "text/x-python",
   "name": "python",
   "nbconvert_exporter": "python",
   "pygments_lexer": "ipython3",
   "version": "3.5.2"
  }
 },
 "nbformat": 4,
 "nbformat_minor": 1
}
