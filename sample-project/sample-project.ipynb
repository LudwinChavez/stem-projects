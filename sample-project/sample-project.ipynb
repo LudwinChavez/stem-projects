{
 "cells": [
  {
   "cell_type": "markdown",
   "metadata": {},
   "source": [
    "# Sample Project Walkthrough"
   ]
  },
  {
   "cell_type": "markdown",
   "metadata": {},
   "source": [
    "Git can be confusing at first, so let's walk through a sample project to see how all of the pieces fit together. The very first thing you'll need to do is change `denricoNBHS` to __your__ GitHub user name in the code below, then copy and paste the edited code into your PowerShell/Terminal, and run it:\n",
    "```Bash\n",
    "curl -u \"denricoNBHS\" https://api.github.com/user/repos -d '{\"name\":\"sample-project\", \"description\":\"A make-believe project to learn the ropes of git.\",\"auto_init\":true,\"gitignore_template\":\"Python\", \"license_template\":\"mit\"}'\n",
    "```\n",
    "\n",
    "Once you run this command, the terminal should prompt you to enter your password. If you enter everything successfully, you should get a whole mess of feedback, but no error messages. This code uses the command line to create a new bare-bones repository called `sample-project` on your GitHub account.\n",
    "\n",
    "My output looked like this:"
   ]
  },
  {
   "cell_type": "code",
   "execution_count": 10,
   "metadata": {
    "collapsed": false
   },
   "outputs": [
    {
     "name": "stdout",
     "output_type": "stream",
     "text": [
      "{\r\n",
      "  \"id\": 73732514,\r\n",
      "  \"name\": \"sample-project\",\r\n",
      "  \"full_name\": \"denricoNBHS/sample-project\",\r\n",
      "  \"owner\": {\r\n",
      "    \"login\": \"denricoNBHS\",\r\n",
      "    \"id\": 18317980,\r\n",
      "    \"avatar_url\": \"https://avatars.githubusercontent.com/u/18317980?v=3\",\r\n",
      "    \"gravatar_id\": \"\",\r\n",
      "    \"url\": \"https://api.github.com/users/denricoNBHS\",\r\n",
      "    \"html_url\": \"https://github.com/denricoNBHS\",\r\n",
      "    \"followers_url\": \"https://api.github.com/users/denricoNBHS/followers\",\r\n",
      "    \"following_url\": \"https://api.github.com/users/denricoNBHS/following{/other_user}\",\r\n",
      "    \"gists_url\": \"https://api.github.com/users/denricoNBHS/gists{/gist_id}\",\r\n",
      "    \"starred_url\": \"https://api.github.com/users/denricoNBHS/starred{/owner}{/repo}\",\r\n",
      "    \"subscriptions_url\": \"https://api.github.com/users/denricoNBHS/subscriptions\",\r\n",
      "    \"organizations_url\": \"https://api.github.com/users/denricoNBHS/orgs\",\r\n",
      "    \"repos_url\": \"https://api.github.com/users/denricoNBHS/repos\",\r\n",
      "    \"events_url\": \"https://api.github.com/users/denricoNBHS/events{/privacy}\",\r\n",
      "    \"received_events_url\": \"https://api.github.com/users/denricoNBHS/received_events\",\r\n",
      "    \"type\": \"User\",\r\n",
      "    \"site_admin\": false\r\n",
      "  },\r\n",
      "  \"private\": false,\r\n",
      "  \"html_url\": \"https://github.com/denricoNBHS/sample-project\",\r\n",
      "  \"description\": \"A make-believe project to learn the ropes of git.\",\r\n",
      "  \"fork\": false,\r\n",
      "  \"url\": \"https://api.github.com/repos/denricoNBHS/sample-project\",\r\n",
      "  \"forks_url\": \"https://api.github.com/repos/denricoNBHS/sample-project/forks\",\r\n",
      "  \"keys_url\": \"https://api.github.com/repos/denricoNBHS/sample-project/keys{/key_id}\",\r\n",
      "  \"collaborators_url\": \"https://api.github.com/repos/denricoNBHS/sample-project/collaborators{/collaborator}\",\r\n",
      "  \"teams_url\": \"https://api.github.com/repos/denricoNBHS/sample-project/teams\",\r\n",
      "  \"hooks_url\": \"https://api.github.com/repos/denricoNBHS/sample-project/hooks\",\r\n",
      "  \"issue_events_url\": \"https://api.github.com/repos/denricoNBHS/sample-project/issues/events{/number}\",\r\n",
      "  \"events_url\": \"https://api.github.com/repos/denricoNBHS/sample-project/events\",\r\n",
      "  \"assignees_url\": \"https://api.github.com/repos/denricoNBHS/sample-project/assignees{/user}\",\r\n",
      "  \"branches_url\": \"https://api.github.com/repos/denricoNBHS/sample-project/branches{/branch}\",\r\n",
      "  \"tags_url\": \"https://api.github.com/repos/denricoNBHS/sample-project/tags\",\r\n",
      "  \"blobs_url\": \"https://api.github.com/repos/denricoNBHS/sample-project/git/blobs{/sha}\",\r\n",
      "  \"git_tags_url\": \"https://api.github.com/repos/denricoNBHS/sample-project/git/tags{/sha}\",\r\n",
      "  \"git_refs_url\": \"https://api.github.com/repos/denricoNBHS/sample-project/git/refs{/sha}\",\r\n",
      "  \"trees_url\": \"https://api.github.com/repos/denricoNBHS/sample-project/git/trees{/sha}\",\r\n",
      "  \"statuses_url\": \"https://api.github.com/repos/denricoNBHS/sample-project/statuses/{sha}\",\r\n",
      "  \"languages_url\": \"https://api.github.com/repos/denricoNBHS/sample-project/languages\",\r\n",
      "  \"stargazers_url\": \"https://api.github.com/repos/denricoNBHS/sample-project/stargazers\",\r\n",
      "  \"contributors_url\": \"https://api.github.com/repos/denricoNBHS/sample-project/contributors\",\r\n",
      "  \"subscribers_url\": \"https://api.github.com/repos/denricoNBHS/sample-project/subscribers\",\r\n",
      "  \"subscription_url\": \"https://api.github.com/repos/denricoNBHS/sample-project/subscription\",\r\n",
      "  \"commits_url\": \"https://api.github.com/repos/denricoNBHS/sample-project/commits{/sha}\",\r\n",
      "  \"git_commits_url\": \"https://api.github.com/repos/denricoNBHS/sample-project/git/commits{/sha}\",\r\n",
      "  \"comments_url\": \"https://api.github.com/repos/denricoNBHS/sample-project/comments{/number}\",\r\n",
      "  \"issue_comment_url\": \"https://api.github.com/repos/denricoNBHS/sample-project/issues/comments{/number}\",\r\n",
      "  \"contents_url\": \"https://api.github.com/repos/denricoNBHS/sample-project/contents/{+path}\",\r\n",
      "  \"compare_url\": \"https://api.github.com/repos/denricoNBHS/sample-project/compare/{base}...{head}\",\r\n",
      "  \"merges_url\": \"https://api.github.com/repos/denricoNBHS/sample-project/merges\",\r\n",
      "  \"archive_url\": \"https://api.github.com/repos/denricoNBHS/sample-project/{archive_format}{/ref}\",\r\n",
      "  \"downloads_url\": \"https://api.github.com/repos/denricoNBHS/sample-project/downloads\",\r\n",
      "  \"issues_url\": \"https://api.github.com/repos/denricoNBHS/sample-project/issues{/number}\",\r\n",
      "  \"pulls_url\": \"https://api.github.com/repos/denricoNBHS/sample-project/pulls{/number}\",\r\n",
      "  \"milestones_url\": \"https://api.github.com/repos/denricoNBHS/sample-project/milestones{/number}\",\r\n",
      "  \"notifications_url\": \"https://api.github.com/repos/denricoNBHS/sample-project/notifications{?since,all,participating}\",\r\n",
      "  \"labels_url\": \"https://api.github.com/repos/denricoNBHS/sample-project/labels{/name}\",\r\n",
      "  \"releases_url\": \"https://api.github.com/repos/denricoNBHS/sample-project/releases{/id}\",\r\n",
      "  \"deployments_url\": \"https://api.github.com/repos/denricoNBHS/sample-project/deployments\",\r\n",
      "  \"created_at\": \"2016-11-14T18:01:37Z\",\r\n",
      "  \"updated_at\": \"2016-11-14T18:01:37Z\",\r\n",
      "  \"pushed_at\": \"2016-11-14T18:01:37Z\",\r\n",
      "  \"git_url\": \"git://github.com/denricoNBHS/sample-project.git\",\r\n",
      "  \"ssh_url\": \"git@github.com:denricoNBHS/sample-project.git\",\r\n",
      "  \"clone_url\": \"https://github.com/denricoNBHS/sample-project.git\",\r\n",
      "  \"svn_url\": \"https://github.com/denricoNBHS/sample-project\",\r\n",
      "  \"homepage\": null,\r\n",
      "  \"size\": 0,\r\n",
      "  \"stargazers_count\": 0,\r\n",
      "  \"watchers_count\": 0,\r\n",
      "  \"language\": null,\r\n",
      "  \"has_issues\": true,\r\n",
      "  \"has_downloads\": true,\r\n",
      "  \"has_wiki\": true,\r\n",
      "  \"has_pages\": false,\r\n",
      "  \"forks_count\": 0,\r\n",
      "  \"mirror_url\": null,\r\n",
      "  \"open_issues_count\": 0,\r\n",
      "  \"forks\": 0,\r\n",
      "  \"open_issues\": 0,\r\n",
      "  \"watchers\": 0,\r\n",
      "  \"default_branch\": \"master\",\r\n",
      "  \"permissions\": {\r\n",
      "    \"admin\": true,\r\n",
      "    \"push\": true,\r\n",
      "    \"pull\": true\r\n",
      "  },\r\n",
      "  \"network_count\": 0,\r\n",
      "  \"subscribers_count\": 1\r\n",
      "}\r\n"
     ]
    }
   ],
   "source": [
    "!curl -u \"denricoNBHS\" https://api.github.com/user/repos -d '{\"name\":\"sample-project\", \"description\":\"A make-believe project to learn the ropes of git.\",\"auto_init\":true,\"gitignore_template\":\"Python\", \"license_template\":\"mit\"}'"
   ]
  },
  {
   "cell_type": "markdown",
   "metadata": {},
   "source": [
    "If this didn't work for you, you can always log into GitHub and create the `sample-project` repo there.\n",
    "\n",
    "### How to use this notebook:\n",
    "\n",
    "From this point on, assuming you replace any instances of `denricoNBHS` with your GitHub username, running the cells as you read should result in the creation of your own mini-project.\n",
    "\n",
    "### And we're off...\n",
    "So at this point, we have created a mostly empty repository that lives in the cloud. Let's see how we can work with this repo locally. In order to get a copy of the repository we can work on, we will `clone` it."
   ]
  },
  {
   "cell_type": "code",
   "execution_count": 13,
   "metadata": {
    "collapsed": false
   },
   "outputs": [
    {
     "name": "stdout",
     "output_type": "stream",
     "text": [
      "Cloning into 'sample-project'...\n",
      "remote: Counting objects: 5, done.\u001b[K\n",
      "remote: Compressing objects: 100% (5/5), done.\u001b[K\n",
      "remote: Total 5 (delta 0), reused 0 (delta 0), pack-reused 0\u001b[K\n",
      "Unpacking objects: 100% (5/5), done.\n",
      "Checking connectivity... done.\n"
     ]
    }
   ],
   "source": [
    "!git clone https://github.com/denricoNBHS/sample-project"
   ]
  },
  {
   "cell_type": "markdown",
   "metadata": {},
   "source": [
    "This creates a copy of the online repository in the `sample-project` folder on our local machine. The next cells navigate us to the new directory and investigate its contents."
   ]
  },
  {
   "cell_type": "code",
   "execution_count": 36,
   "metadata": {
    "collapsed": false
   },
   "outputs": [
    {
     "name": "stdout",
     "output_type": "stream",
     "text": [
      "/Users/denrico/Code/sample-project\n"
     ]
    }
   ],
   "source": [
    "cd sample-project"
   ]
  },
  {
   "cell_type": "code",
   "execution_count": 32,
   "metadata": {
    "collapsed": false
   },
   "outputs": [
    {
     "name": "stdout",
     "output_type": "stream",
     "text": [
      "LICENSE    README.md\r\n"
     ]
    }
   ],
   "source": [
    "ls"
   ]
  },
  {
   "cell_type": "markdown",
   "metadata": {},
   "source": [
    "Now let's do some sample work. First, we can make a file that contains some Python code:"
   ]
  },
  {
   "cell_type": "code",
   "execution_count": 37,
   "metadata": {
    "collapsed": true
   },
   "outputs": [],
   "source": [
    "with open('hello.py', 'w') as f:\n",
    "    f.write('print(\"Hello world!\")')"
   ]
  },
  {
   "cell_type": "markdown",
   "metadata": {},
   "source": [
    "After running this code, we can see that we've created a file, `hello.py` that contains the code to print \"Hello world!\""
   ]
  },
  {
   "cell_type": "code",
   "execution_count": 38,
   "metadata": {
    "collapsed": false
   },
   "outputs": [
    {
     "name": "stdout",
     "output_type": "stream",
     "text": [
      "LICENSE    README.md  hello.py\r\n"
     ]
    }
   ],
   "source": [
    "ls"
   ]
  },
  {
   "cell_type": "code",
   "execution_count": 39,
   "metadata": {
    "collapsed": false
   },
   "outputs": [
    {
     "name": "stdout",
     "output_type": "stream",
     "text": [
      "Hello world!\r\n"
     ]
    }
   ],
   "source": [
    "!python hello.py"
   ]
  },
  {
   "cell_type": "markdown",
   "metadata": {},
   "source": [
    "Now that we've made some changes I'd like to keep, we can `add` this to the list of files being tracked, and then `commit` our changes."
   ]
  },
  {
   "cell_type": "code",
   "execution_count": 40,
   "metadata": {
    "collapsed": true
   },
   "outputs": [],
   "source": [
    "!git add hello.py"
   ]
  },
  {
   "cell_type": "code",
   "execution_count": 41,
   "metadata": {
    "collapsed": false
   },
   "outputs": [
    {
     "name": "stdout",
     "output_type": "stream",
     "text": [
      "[master ffdca36] Add hello.py\r\n",
      " 1 file changed, 1 insertion(+)\r\n",
      " create mode 100644 hello.py\r\n"
     ]
    }
   ],
   "source": [
    "!git commit -m \"Add hello.py\""
   ]
  },
  {
   "cell_type": "code",
   "execution_count": 42,
   "metadata": {
    "collapsed": false
   },
   "outputs": [
    {
     "name": "stdout",
     "output_type": "stream",
     "text": [
      "On branch master\r\n",
      "Your branch is ahead of 'origin/master' by 1 commit.\r\n",
      "  (use \"git push\" to publish your local commits)\r\n",
      "nothing to commit, working directory clean\r\n"
     ]
    }
   ],
   "source": [
    "!git status"
   ]
  },
  {
   "cell_type": "markdown",
   "metadata": {},
   "source": [
    "We see that our local version of the repo is now different from the original. Let's get our remote version caught up with ours then, shall we? Since we cloned the repository to our local machine, it \"knows\" where to send the changes we've made. When this isn't the case, you can add a remote with the command:\n",
    "\n",
    "`git remote add origin https://github.com/<your_username>/<repo_name>`"
   ]
  },
  {
   "cell_type": "markdown",
   "metadata": {},
   "source": [
    "Seeing as how this is just a cloned repo, we don't have to do this. We can simply push our changes to the remote branch."
   ]
  },
  {
   "cell_type": "code",
   "execution_count": 43,
   "metadata": {
    "collapsed": false
   },
   "outputs": [
    {
     "name": "stdout",
     "output_type": "stream",
     "text": [
      "Counting objects: 3, done.\n",
      "Delta compression using up to 8 threads.\n",
      "Compressing objects: 100% (2/2), done.\n",
      "Writing objects: 100% (3/3), 298 bytes | 0 bytes/s, done.\n",
      "Total 3 (delta 1), reused 0 (delta 0)\n",
      "remote: Resolving deltas: 100% (1/1), completed with 1 local objects.\u001b[K\n",
      "To https://github.com/denricoNBHS/sample-project\n",
      "   d3ad389..ffdca36  master -> master\n"
     ]
    }
   ],
   "source": [
    "!git push origin master"
   ]
  },
  {
   "cell_type": "markdown",
   "metadata": {},
   "source": [
    "This command merges our changes into the remote's master branch.\n",
    "\n",
    "Let's see if we can get a little more involved. Imagine your team leader asks you to add some features to our program - maybe she wants `hello.py` to print out the current time as well. Since we don't want to mess things up, we start our work by creating and checking out a new branch to work on.\n",
    "\n",
    "_Protip:_ You can do this in one command with: \n",
    "`git checkout -b new_feature`"
   ]
  },
  {
   "cell_type": "code",
   "execution_count": 44,
   "metadata": {
    "collapsed": true
   },
   "outputs": [],
   "source": [
    "!git branch new_feature"
   ]
  },
  {
   "cell_type": "code",
   "execution_count": 45,
   "metadata": {
    "collapsed": false
   },
   "outputs": [
    {
     "name": "stdout",
     "output_type": "stream",
     "text": [
      "Switched to branch 'new_feature'\r\n"
     ]
    }
   ],
   "source": [
    "!git checkout new_feature"
   ]
  },
  {
   "cell_type": "markdown",
   "metadata": {},
   "source": [
    "Here we can edit `hello.py` without worrying about affecting our `master` branch."
   ]
  },
  {
   "cell_type": "code",
   "execution_count": 54,
   "metadata": {
    "collapsed": true
   },
   "outputs": [],
   "source": [
    "with open('hello.py', 'w') as f:\n",
    "    f.write('import time \\nprint(\"Hello world! Today is %s\" % time.ctime(time.time()))')"
   ]
  },
  {
   "cell_type": "code",
   "execution_count": 55,
   "metadata": {
    "collapsed": false
   },
   "outputs": [
    {
     "name": "stdout",
     "output_type": "stream",
     "text": [
      "Hello world! Today is Mon Nov 14 14:09:57 2016\r\n"
     ]
    }
   ],
   "source": [
    "!python hello.py"
   ]
  },
  {
   "cell_type": "markdown",
   "metadata": {},
   "source": [
    "Looks like it works. Let's track our file and commit the changes."
   ]
  },
  {
   "cell_type": "code",
   "execution_count": 56,
   "metadata": {
    "collapsed": false
   },
   "outputs": [
    {
     "name": "stdout",
     "output_type": "stream",
     "text": [
      "On branch new_feature\r\n",
      "Changes not staged for commit:\r\n",
      "  (use \"git add <file>...\" to update what will be committed)\r\n",
      "  (use \"git checkout -- <file>...\" to discard changes in working directory)\r\n",
      "\r\n",
      "\t\u001b[31mmodified:   hello.py\u001b[m\r\n",
      "\r\n",
      "no changes added to commit (use \"git add\" and/or \"git commit -a\")\r\n"
     ]
    }
   ],
   "source": [
    "!git status"
   ]
  },
  {
   "cell_type": "code",
   "execution_count": 57,
   "metadata": {
    "collapsed": true
   },
   "outputs": [],
   "source": [
    "!git add hello.py"
   ]
  },
  {
   "cell_type": "code",
   "execution_count": 58,
   "metadata": {
    "collapsed": false
   },
   "outputs": [
    {
     "name": "stdout",
     "output_type": "stream",
     "text": [
      "[new_feature 1af1ccd] Create feature branch and update hello.py to tell time\r\n",
      " 1 file changed, 2 insertions(+), 1 deletion(-)\r\n"
     ]
    }
   ],
   "source": [
    "!git commit -m \"Create feature branch and update hello.py to tell time\""
   ]
  },
  {
   "cell_type": "markdown",
   "metadata": {},
   "source": [
    "If we're confident the feature branch doesn't break our code, we can merge it into `master`. First, we check out the `master` branch:"
   ]
  },
  {
   "cell_type": "code",
   "execution_count": 59,
   "metadata": {
    "collapsed": false
   },
   "outputs": [
    {
     "name": "stdout",
     "output_type": "stream",
     "text": [
      "Switched to branch 'master'\r\n",
      "Your branch is up-to-date with 'origin/master'.\r\n"
     ]
    }
   ],
   "source": [
    "!git checkout master"
   ]
  },
  {
   "cell_type": "markdown",
   "metadata": {},
   "source": [
    "Then we merge in our `new_feature` branch:"
   ]
  },
  {
   "cell_type": "code",
   "execution_count": 60,
   "metadata": {
    "collapsed": false
   },
   "outputs": [
    {
     "name": "stdout",
     "output_type": "stream",
     "text": [
      "Updating ffdca36..1af1ccd\r\n",
      "Fast-forward\r\n",
      " hello.py | 3 \u001b[32m++\u001b[m\u001b[31m-\u001b[m\r\n",
      " 1 file changed, 2 insertions(+), 1 deletion(-)\r\n"
     ]
    }
   ],
   "source": [
    "!git merge new_feature"
   ]
  },
  {
   "cell_type": "markdown",
   "metadata": {},
   "source": [
    "With no errors, we can safely delete our feature branch:"
   ]
  },
  {
   "cell_type": "code",
   "execution_count": 62,
   "metadata": {
    "collapsed": false
   },
   "outputs": [
    {
     "name": "stdout",
     "output_type": "stream",
     "text": [
      "Deleted branch new_feature (was 1af1ccd).\r\n"
     ]
    }
   ],
   "source": [
    "!git branch -d new_feature"
   ]
  },
  {
   "cell_type": "markdown",
   "metadata": {},
   "source": [
    "And finally, we push our changes to the remote:"
   ]
  },
  {
   "cell_type": "code",
   "execution_count": 61,
   "metadata": {
    "collapsed": false
   },
   "outputs": [
    {
     "name": "stdout",
     "output_type": "stream",
     "text": [
      "Counting objects: 3, done.\n",
      "Delta compression using up to 8 threads.\n",
      "Compressing objects: 100% (3/3), done.\n",
      "Writing objects: 100% (3/3), 351 bytes | 0 bytes/s, done.\n",
      "Total 3 (delta 1), reused 0 (delta 0)\n",
      "remote: Resolving deltas: 100% (1/1), completed with 1 local objects.\u001b[K\n",
      "To https://github.com/denricoNBHS/sample-project\n",
      "   ffdca36..1af1ccd  master -> master\n"
     ]
    }
   ],
   "source": [
    "!git push origin master"
   ]
  },
  {
   "cell_type": "markdown",
   "metadata": {},
   "source": [
    "Now let's say while we were working, one of our teammates made his/her own changes to `origin/master`, leaving it different from our version. If this is the case, we'll get an error when we try to `push`.\n",
    "\n",
    "(I made a token change from the GitHub website to show you the error)"
   ]
  },
  {
   "cell_type": "code",
   "execution_count": 63,
   "metadata": {
    "collapsed": false
   },
   "outputs": [
    {
     "name": "stdout",
     "output_type": "stream",
     "text": [
      "To https://github.com/denricoNBHS/sample-project\r\n",
      " ! [rejected]        master -> master (fetch first)\r\n",
      "error: failed to push some refs to 'https://github.com/denricoNBHS/sample-project'\r\n",
      "hint: Updates were rejected because the remote contains work that you do\r\n",
      "hint: not have locally. This is usually caused by another repository pushing\r\n",
      "hint: to the same ref. You may want to first integrate the remote changes\r\n",
      "hint: (e.g., 'git pull ...') before pushing again.\r\n",
      "hint: See the 'Note about fast-forwards' in 'git push --help' for details.\r\n"
     ]
    }
   ],
   "source": [
    "!git push origin master"
   ]
  },
  {
   "cell_type": "markdown",
   "metadata": {},
   "source": [
    "Git's upset that the remote version contains info that we don't have. To deal with this, we can `fetch` any changes before we `push`."
   ]
  },
  {
   "cell_type": "code",
   "execution_count": 64,
   "metadata": {
    "collapsed": false
   },
   "outputs": [
    {
     "name": "stdout",
     "output_type": "stream",
     "text": [
      "remote: Counting objects: 3, done.\u001b[K\r\n",
      "remote: Compressing objects:  33% (1/3)   \u001b[K\r",
      "remote: Compressing objects:  66% (2/3)   \u001b[K\r",
      "remote: Compressing objects: 100% (3/3)   \u001b[K\r",
      "remote: Compressing objects: 100% (3/3), done.\u001b[K\r\n",
      "remote: Total 3 (delta 1), reused 0 (delta 0), pack-reused 0\u001b[K\r\n",
      "Unpacking objects:  33% (1/3)   \r",
      "Unpacking objects:  66% (2/3)   \r",
      "Unpacking objects: 100% (3/3)   \r",
      "Unpacking objects: 100% (3/3), done.\r\n",
      "From https://github.com/denricoNBHS/sample-project\r\n",
      " * branch            master     -> FETCH_HEAD\r\n",
      "   1af1ccd..b42583b  master     -> origin/master\r\n"
     ]
    }
   ],
   "source": [
    "!git fetch origin master"
   ]
  },
  {
   "cell_type": "markdown",
   "metadata": {},
   "source": [
    "Now we can merge in the changes from the remote branch, `origin/master`:"
   ]
  },
  {
   "cell_type": "code",
   "execution_count": 67,
   "metadata": {
    "collapsed": false
   },
   "outputs": [
    {
     "name": "stdout",
     "output_type": "stream",
     "text": [
      "Updating 1af1ccd..b42583b\r\n",
      "Fast-forward\r\n",
      " hello.py | 2 \u001b[32m+\u001b[m\u001b[31m-\u001b[m\r\n",
      " 1 file changed, 1 insertion(+), 1 deletion(-)\r\n"
     ]
    }
   ],
   "source": [
    "!git merge origin/master"
   ]
  },
  {
   "cell_type": "code",
   "execution_count": 68,
   "metadata": {
    "collapsed": false
   },
   "outputs": [
    {
     "name": "stdout",
     "output_type": "stream",
     "text": [
      "On branch master\r\n",
      "Your branch is up-to-date with 'origin/master'.\r\n",
      "nothing to commit, working directory clean\r\n"
     ]
    }
   ],
   "source": [
    "!git status"
   ]
  },
  {
   "cell_type": "markdown",
   "metadata": {},
   "source": [
    "Now we're all caught up with the remote branch, we can make changes and push as needed."
   ]
  }
 ],
 "metadata": {
  "kernelspec": {
   "display_name": "Python 3",
   "language": "python",
   "name": "python3"
  },
  "language_info": {
   "codemirror_mode": {
    "name": "ipython",
    "version": 3.0
   },
   "file_extension": ".py",
   "mimetype": "text/x-python",
   "name": "python",
   "nbconvert_exporter": "python",
   "pygments_lexer": "ipython3",
   "version": "3.5.2"
  }
 },
 "nbformat": 4,
 "nbformat_minor": 0
}